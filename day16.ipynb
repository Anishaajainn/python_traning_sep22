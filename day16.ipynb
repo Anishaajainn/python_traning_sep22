{
 "cells": [
  {
   "cell_type": "code",
   "execution_count": null,
   "metadata": {},
   "outputs": [],
   "source": []
  }
 ],
 "metadata": {
  "kernelspec": {
   "display_name": "Python 3.10.6 64-bit",
   "language": "python",
   "name": "python3"
  },
  "language_info": {
   "name": "python",
   "version": "3.10.6"
  },
  "orig_nbformat": 4,
  "vscode": {
   "interpreter": {
    "hash": "5ba37c66c94b6dbadca5ea61337c28933bd5930c5359b802f457b89732298f96"
   }
  }
 },
 "nbformat": 4,
 "nbformat_minor": 2
}
